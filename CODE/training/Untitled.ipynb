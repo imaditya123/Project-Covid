{
 "cells": [
  {
   "cell_type": "code",
   "execution_count": 1,
   "id": "ee9d1d96",
   "metadata": {},
   "outputs": [],
   "source": [
    "import tensorflow as tf"
   ]
  },
  {
   "cell_type": "code",
   "execution_count": 2,
   "id": "e62522e4",
   "metadata": {},
   "outputs": [],
   "source": [
    "dense=\"densenet/DenseNet201_covid_model.h5\"\n",
    "resnet=\"resnet/Resnet50_covid_model.h5\"\n",
    "vgg=\"vgg/VGG_covid_model.h5\""
   ]
  },
  {
   "cell_type": "code",
   "execution_count": 3,
   "id": "cf0b94a9",
   "metadata": {},
   "outputs": [],
   "source": [
    "dmodel=tf.keras.models.load_model(\n",
    "    dense, custom_objects=None, compile=True, options=None\n",
    ")\n"
   ]
  },
  {
   "cell_type": "code",
   "execution_count": 4,
   "id": "ff86e5aa",
   "metadata": {},
   "outputs": [],
   "source": [
    "rmodel=tf.keras.models.load_model(\n",
    "    resnet, custom_objects=None, compile=True, options=None\n",
    ")\n"
   ]
  },
  {
   "cell_type": "code",
   "execution_count": 6,
   "id": "90f8a460",
   "metadata": {},
   "outputs": [],
   "source": [
    "vmodel=tf.keras.models.load_model(\n",
    "    vgg, custom_objects=None, compile=True, options=None\n",
    ")\n",
    "\n"
   ]
  },
  {
   "cell_type": "code",
   "execution_count": 12,
   "id": "c1b2fa73",
   "metadata": {},
   "outputs": [
    {
     "name": "stdout",
     "output_type": "stream",
     "text": [
      "INFO:tensorflow:Assets written to: C:\\Users\\ADITYA~1\\AppData\\Local\\Temp\\tmpq0_hotl6\\assets\n"
     ]
    },
    {
     "name": "stderr",
     "output_type": "stream",
     "text": [
      "INFO:tensorflow:Assets written to: C:\\Users\\ADITYA~1\\AppData\\Local\\Temp\\tmpq0_hotl6\\assets\n",
      "WARNING:absl:Buffer deduplication procedure will be skipped when flatbuffer library is not properly loaded\n"
     ]
    }
   ],
   "source": [
    "denseconverter = tf.lite.TFLiteConverter.from_keras_model(dmodel)\n",
    "desnselite = denseconverter.convert()\n",
    "with open('densemodel.tflite', 'wb') as f:\n",
    "  f.write(desnselite)"
   ]
  },
  {
   "cell_type": "code",
   "execution_count": 13,
   "id": "d2fe68f0",
   "metadata": {},
   "outputs": [
    {
     "name": "stdout",
     "output_type": "stream",
     "text": [
      "INFO:tensorflow:Assets written to: C:\\Users\\ADITYA~1\\AppData\\Local\\Temp\\tmpyalyqt7w\\assets\n"
     ]
    },
    {
     "name": "stderr",
     "output_type": "stream",
     "text": [
      "INFO:tensorflow:Assets written to: C:\\Users\\ADITYA~1\\AppData\\Local\\Temp\\tmpyalyqt7w\\assets\n",
      "WARNING:absl:Buffer deduplication procedure will be skipped when flatbuffer library is not properly loaded\n"
     ]
    }
   ],
   "source": [
    "rconverter = tf.lite.TFLiteConverter.from_keras_model(rmodel)\n",
    "resnetlite = rconverter.convert()\n",
    "with open('resnetmodel.tflite', 'wb') as f:\n",
    "  f.write(resnetlite)\n"
   ]
  },
  {
   "cell_type": "code",
   "execution_count": 14,
   "id": "4b339112",
   "metadata": {},
   "outputs": [
    {
     "name": "stdout",
     "output_type": "stream",
     "text": [
      "INFO:tensorflow:Assets written to: C:\\Users\\ADITYA~1\\AppData\\Local\\Temp\\tmpi7hu0eh8\\assets\n"
     ]
    },
    {
     "name": "stderr",
     "output_type": "stream",
     "text": [
      "INFO:tensorflow:Assets written to: C:\\Users\\ADITYA~1\\AppData\\Local\\Temp\\tmpi7hu0eh8\\assets\n",
      "WARNING:absl:Buffer deduplication procedure will be skipped when flatbuffer library is not properly loaded\n"
     ]
    }
   ],
   "source": [
    "vconverter = tf.lite.TFLiteConverter.from_keras_model(vmodel)\n",
    "vgglite = vconverter.convert()\n",
    "with open('vggmodel.tflite', 'wb') as f:\n",
    "  f.write(vgglite)"
   ]
  },
  {
   "cell_type": "code",
   "execution_count": null,
   "id": "e4493406",
   "metadata": {},
   "outputs": [],
   "source": []
  }
 ],
 "metadata": {
  "kernelspec": {
   "display_name": "Python 3 (ipykernel)",
   "language": "python",
   "name": "python3"
  },
  "language_info": {
   "codemirror_mode": {
    "name": "ipython",
    "version": 3
   },
   "file_extension": ".py",
   "mimetype": "text/x-python",
   "name": "python",
   "nbconvert_exporter": "python",
   "pygments_lexer": "ipython3",
   "version": "3.8.5"
  }
 },
 "nbformat": 4,
 "nbformat_minor": 5
}
